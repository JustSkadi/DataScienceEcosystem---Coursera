{
 "cells": [
  {
   "cell_type": "markdown",
   "id": "82e01305",
   "metadata": {},
   "source": [
    "# Data Science Tools and Ecosystem\n"
   ]
  },
  {
   "cell_type": "markdown",
   "id": "1c502d13",
   "metadata": {},
   "source": [
    "\n",
    "## In this notebook, Data Science Tools and Ecosystem are summarized."
   ]
  },
  {
   "cell_type": "markdown",
   "id": "1a89e23e",
   "metadata": {},
   "source": [
    "### Objectives:\n",
    "* popular languages in Data Science\n",
    "* libraries used in Data Science\n",
    "* Data Science Tools\n"
   ]
  },
  {
   "cell_type": "markdown",
   "id": "643ee881",
   "metadata": {},
   "source": [
    "### Some of the popular languages that Data Scientists use are:\n",
    "1. Python\n",
    "2. R\n",
    "3. Julia"
   ]
  },
  {
   "cell_type": "markdown",
   "id": "65515a54",
   "metadata": {},
   "source": [
    "### Some of the commonly used libraries used by Data Scientists include:\n",
    "1. Pandas\n",
    "2. NumPy\n",
    "3. PyTorch"
   ]
  },
  {
   "cell_type": "markdown",
   "id": "9ac7deec",
   "metadata": {},
   "source": [
    "| Data Science Tools |\n",
    "------------------------------\n",
    "| MySQL |\n",
    "| ApacheSpark |\n",
    "| Hadoop |\n"
   ]
  },
  {
   "cell_type": "markdown",
   "id": "0778a0c3",
   "metadata": {},
   "source": [
    "### Below are a few examples of evaluating arithmetic expressions in Python\n"
   ]
  },
  {
   "cell_type": "code",
   "execution_count": 4,
   "id": "3ff42b17",
   "metadata": {},
   "outputs": [
    {
     "data": {
      "text/plain": [
       "17"
      ]
     },
     "execution_count": 4,
     "metadata": {},
     "output_type": "execute_result"
    }
   ],
   "source": [
    "(3*4)+5 #his a simple arithmetic expression to mutiply then add integers"
   ]
  },
  {
   "cell_type": "code",
   "execution_count": 6,
   "id": "935a6ef0",
   "metadata": {
    "scrolled": true
   },
   "outputs": [
    {
     "name": "stdout",
     "output_type": "stream",
     "text": [
      "3\n"
     ]
    }
   ],
   "source": [
    "min = 200\n",
    "h = min/60 #This will convert 200 minutes to hours by diving by 60\n",
    "print(round(h))"
   ]
  },
  {
   "cell_type": "markdown",
   "id": "9aa33e0b",
   "metadata": {},
   "source": [
    "## Author\n",
    "Weronika"
   ]
  },
  {
   "cell_type": "code",
   "execution_count": null,
   "id": "58417ab5",
   "metadata": {},
   "outputs": [],
   "source": []
  }
 ],
 "metadata": {
  "kernelspec": {
   "display_name": "Python 3 (ipykernel)",
   "language": "python",
   "name": "python3"
  },
  "language_info": {
   "codemirror_mode": {
    "name": "ipython",
    "version": 3
   },
   "file_extension": ".py",
   "mimetype": "text/x-python",
   "name": "python",
   "nbconvert_exporter": "python",
   "pygments_lexer": "ipython3",
   "version": "3.11.5"
  }
 },
 "nbformat": 4,
 "nbformat_minor": 5
}
